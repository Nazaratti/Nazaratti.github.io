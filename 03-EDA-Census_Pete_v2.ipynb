{
 "cells": [
  {
   "cell_type": "markdown",
   "metadata": {},
   "source": [
    "# MSCA 32007 : Exploratory Data Analysis "
   ]
  },
  {
   "cell_type": "code",
   "execution_count": 1,
   "metadata": {},
   "outputs": [],
   "source": [
    "# import libraries\n",
    "import pandas as pd\n",
    "import numpy as np\n",
    "import seaborn as sns\n",
    "import matplotlib.pyplot as plt"
   ]
  },
  {
   "cell_type": "code",
   "execution_count": 2,
   "metadata": {},
   "outputs": [],
   "source": [
    "# !pip install sas7bdat"
   ]
  },
  {
   "cell_type": "code",
   "execution_count": 3,
   "metadata": {},
   "outputs": [],
   "source": [
    "# dataPath = '/Users/paryan414/UofC/MSCA 32007 Data Viz/Assignment_3/unix_hil/psam_h17.sas7bdat'"
   ]
  },
  {
   "cell_type": "code",
   "execution_count": 4,
   "metadata": {},
   "outputs": [],
   "source": [
    "# from sas7bdat import SAS7BDAT"
   ]
  },
  {
   "cell_type": "code",
   "execution_count": 5,
   "metadata": {},
   "outputs": [],
   "source": [
    "# census_df = pd.read_sas(dataPath, format = 'sas7bdat')"
   ]
  },
  {
   "cell_type": "code",
   "execution_count": 6,
   "metadata": {},
   "outputs": [],
   "source": [
    "# census_df.head()"
   ]
  },
  {
   "cell_type": "code",
   "execution_count": 7,
   "metadata": {},
   "outputs": [],
   "source": [
    "# census_df.info(verbose = True)"
   ]
  },
  {
   "cell_type": "code",
   "execution_count": 8,
   "metadata": {},
   "outputs": [],
   "source": [
    "# census_df.isna().sum()"
   ]
  },
  {
   "cell_type": "code",
   "execution_count": 9,
   "metadata": {},
   "outputs": [],
   "source": [
    "census = pd.read_csv('/Users/paryan414/UofC/MSCA 32007 Data Viz/Assignment_3/ProjectFiles_Assignment3_finalfile.csv')"
   ]
  },
  {
   "cell_type": "code",
   "execution_count": 10,
   "metadata": {},
   "outputs": [
    {
     "data": {
      "text/html": [
       "<div>\n",
       "<style scoped>\n",
       "    .dataframe tbody tr th:only-of-type {\n",
       "        vertical-align: middle;\n",
       "    }\n",
       "\n",
       "    .dataframe tbody tr th {\n",
       "        vertical-align: top;\n",
       "    }\n",
       "\n",
       "    .dataframe thead th {\n",
       "        text-align: right;\n",
       "    }\n",
       "</style>\n",
       "<table border=\"1\" class=\"dataframe\">\n",
       "  <thead>\n",
       "    <tr style=\"text-align: right;\">\n",
       "      <th></th>\n",
       "      <th>PUMA00</th>\n",
       "      <th>Lot_Size</th>\n",
       "      <th>InflationAd_HousingCosts_2013USD</th>\n",
       "      <th>InflationAd_ReportedIncome_2013USD</th>\n",
       "      <th>BATH</th>\n",
       "      <th>Number_Of_Bedrooms</th>\n",
       "      <th>Structure_Units</th>\n",
       "      <th>Business_Medical_onProp</th>\n",
       "      <th>Condo_Fee</th>\n",
       "      <th>Electricity_Monthly_Cost</th>\n",
       "      <th>...</th>\n",
       "      <th>Total_Payment_Second_Junior_Mortgages_Home_Loans</th>\n",
       "      <th>Property_Taxes</th>\n",
       "      <th>Tenure</th>\n",
       "      <th>Type_Of_Unit</th>\n",
       "      <th>Property_Value</th>\n",
       "      <th>Vehicles_Available</th>\n",
       "      <th>Water</th>\n",
       "      <th>WorkersInFamily</th>\n",
       "      <th>Year_Built</th>\n",
       "      <th>ChicagoFlag</th>\n",
       "    </tr>\n",
       "  </thead>\n",
       "  <tbody>\n",
       "    <tr>\n",
       "      <th>0</th>\n",
       "      <td>101</td>\n",
       "      <td>1.0</td>\n",
       "      <td>1.035725</td>\n",
       "      <td>1.054614</td>\n",
       "      <td>1.0</td>\n",
       "      <td>2.0</td>\n",
       "      <td>2.0</td>\n",
       "      <td>2.0</td>\n",
       "      <td>0.0</td>\n",
       "      <td>82.85800</td>\n",
       "      <td>...</td>\n",
       "      <td>NaN</td>\n",
       "      <td>NaN</td>\n",
       "      <td>3.0</td>\n",
       "      <td>1</td>\n",
       "      <td>NaN</td>\n",
       "      <td>3.0</td>\n",
       "      <td>40.000000</td>\n",
       "      <td>3.0</td>\n",
       "      <td>7.0</td>\n",
       "      <td>0</td>\n",
       "    </tr>\n",
       "    <tr>\n",
       "      <th>1</th>\n",
       "      <td>101</td>\n",
       "      <td>NaN</td>\n",
       "      <td>1.035725</td>\n",
       "      <td>1.054614</td>\n",
       "      <td>NaN</td>\n",
       "      <td>NaN</td>\n",
       "      <td>NaN</td>\n",
       "      <td>NaN</td>\n",
       "      <td>NaN</td>\n",
       "      <td>NaN</td>\n",
       "      <td>...</td>\n",
       "      <td>NaN</td>\n",
       "      <td>NaN</td>\n",
       "      <td>NaN</td>\n",
       "      <td>2</td>\n",
       "      <td>NaN</td>\n",
       "      <td>NaN</td>\n",
       "      <td>NaN</td>\n",
       "      <td>NaN</td>\n",
       "      <td>NaN</td>\n",
       "      <td>0</td>\n",
       "    </tr>\n",
       "    <tr>\n",
       "      <th>2</th>\n",
       "      <td>101</td>\n",
       "      <td>1.0</td>\n",
       "      <td>1.035725</td>\n",
       "      <td>1.054614</td>\n",
       "      <td>1.0</td>\n",
       "      <td>3.0</td>\n",
       "      <td>2.0</td>\n",
       "      <td>2.0</td>\n",
       "      <td>0.0</td>\n",
       "      <td>155.35875</td>\n",
       "      <td>...</td>\n",
       "      <td>NaN</td>\n",
       "      <td>21.0</td>\n",
       "      <td>1.0</td>\n",
       "      <td>1</td>\n",
       "      <td>68000.0</td>\n",
       "      <td>1.0</td>\n",
       "      <td>4.166667</td>\n",
       "      <td>NaN</td>\n",
       "      <td>2.0</td>\n",
       "      <td>0</td>\n",
       "    </tr>\n",
       "    <tr>\n",
       "      <th>3</th>\n",
       "      <td>101</td>\n",
       "      <td>1.0</td>\n",
       "      <td>1.035725</td>\n",
       "      <td>1.054614</td>\n",
       "      <td>1.0</td>\n",
       "      <td>4.0</td>\n",
       "      <td>2.0</td>\n",
       "      <td>2.0</td>\n",
       "      <td>0.0</td>\n",
       "      <td>258.93125</td>\n",
       "      <td>...</td>\n",
       "      <td>NaN</td>\n",
       "      <td>45.0</td>\n",
       "      <td>1.0</td>\n",
       "      <td>1</td>\n",
       "      <td>140000.0</td>\n",
       "      <td>2.0</td>\n",
       "      <td>65.000000</td>\n",
       "      <td>2.0</td>\n",
       "      <td>4.0</td>\n",
       "      <td>0</td>\n",
       "    </tr>\n",
       "    <tr>\n",
       "      <th>4</th>\n",
       "      <td>101</td>\n",
       "      <td>1.0</td>\n",
       "      <td>1.068395</td>\n",
       "      <td>1.076540</td>\n",
       "      <td>1.0</td>\n",
       "      <td>2.0</td>\n",
       "      <td>2.0</td>\n",
       "      <td>2.0</td>\n",
       "      <td>0.0</td>\n",
       "      <td>96.15555</td>\n",
       "      <td>...</td>\n",
       "      <td>NaN</td>\n",
       "      <td>27.0</td>\n",
       "      <td>2.0</td>\n",
       "      <td>1</td>\n",
       "      <td>80000.0</td>\n",
       "      <td>3.0</td>\n",
       "      <td>55.000000</td>\n",
       "      <td>NaN</td>\n",
       "      <td>4.0</td>\n",
       "      <td>0</td>\n",
       "    </tr>\n",
       "  </tbody>\n",
       "</table>\n",
       "<p>5 rows × 36 columns</p>\n",
       "</div>"
      ],
      "text/plain": [
       "   PUMA00  Lot_Size  InflationAd_HousingCosts_2013USD  \\\n",
       "0     101       1.0                          1.035725   \n",
       "1     101       NaN                          1.035725   \n",
       "2     101       1.0                          1.035725   \n",
       "3     101       1.0                          1.035725   \n",
       "4     101       1.0                          1.068395   \n",
       "\n",
       "   InflationAd_ReportedIncome_2013USD  BATH  Number_Of_Bedrooms  \\\n",
       "0                            1.054614   1.0                 2.0   \n",
       "1                            1.054614   NaN                 NaN   \n",
       "2                            1.054614   1.0                 3.0   \n",
       "3                            1.054614   1.0                 4.0   \n",
       "4                            1.076540   1.0                 2.0   \n",
       "\n",
       "   Structure_Units  Business_Medical_onProp  Condo_Fee  \\\n",
       "0              2.0                      2.0        0.0   \n",
       "1              NaN                      NaN        NaN   \n",
       "2              2.0                      2.0        0.0   \n",
       "3              2.0                      2.0        0.0   \n",
       "4              2.0                      2.0        0.0   \n",
       "\n",
       "   Electricity_Monthly_Cost  ...  \\\n",
       "0                  82.85800  ...   \n",
       "1                       NaN  ...   \n",
       "2                 155.35875  ...   \n",
       "3                 258.93125  ...   \n",
       "4                  96.15555  ...   \n",
       "\n",
       "   Total_Payment_Second_Junior_Mortgages_Home_Loans  Property_Taxes  Tenure  \\\n",
       "0                                               NaN             NaN     3.0   \n",
       "1                                               NaN             NaN     NaN   \n",
       "2                                               NaN            21.0     1.0   \n",
       "3                                               NaN            45.0     1.0   \n",
       "4                                               NaN            27.0     2.0   \n",
       "\n",
       "   Type_Of_Unit  Property_Value  Vehicles_Available      Water  \\\n",
       "0             1             NaN                 3.0  40.000000   \n",
       "1             2             NaN                 NaN        NaN   \n",
       "2             1         68000.0                 1.0   4.166667   \n",
       "3             1        140000.0                 2.0  65.000000   \n",
       "4             1         80000.0                 3.0  55.000000   \n",
       "\n",
       "   WorkersInFamily  Year_Built  ChicagoFlag  \n",
       "0              3.0         7.0            0  \n",
       "1              NaN         NaN            0  \n",
       "2              NaN         2.0            0  \n",
       "3              2.0         4.0            0  \n",
       "4              NaN         4.0            0  \n",
       "\n",
       "[5 rows x 36 columns]"
      ]
     },
     "execution_count": 10,
     "metadata": {},
     "output_type": "execute_result"
    }
   ],
   "source": [
    "census.head()"
   ]
  },
  {
   "cell_type": "code",
   "execution_count": 11,
   "metadata": {},
   "outputs": [
    {
     "data": {
      "text/plain": [
       "(171214, 36)"
      ]
     },
     "execution_count": 11,
     "metadata": {},
     "output_type": "execute_result"
    }
   ],
   "source": [
    "census.shape"
   ]
  },
  {
   "cell_type": "code",
   "execution_count": 15,
   "metadata": {},
   "outputs": [
    {
     "data": {
      "text/plain": [
       "0         2.0\n",
       "1         NaN\n",
       "2         3.0\n",
       "3         4.0\n",
       "4         2.0\n",
       "         ... \n",
       "171209    3.0\n",
       "171210    2.0\n",
       "171211    3.0\n",
       "171212    4.0\n",
       "171213    2.0\n",
       "Name: Number_Of_Bedrooms, Length: 171214, dtype: float64"
      ]
     },
     "execution_count": 15,
     "metadata": {},
     "output_type": "execute_result"
    }
   ],
   "source": [
    "census['Number_Of_Bedrooms']"
   ]
  },
  {
   "cell_type": "code",
   "execution_count": null,
   "metadata": {},
   "outputs": [],
   "source": [
    "# census.describe()"
   ]
  },
  {
   "cell_type": "code",
   "execution_count": 16,
   "metadata": {},
   "outputs": [
    {
     "name": "stdout",
     "output_type": "stream",
     "text": [
      "<class 'pandas.core.frame.DataFrame'>\n",
      "RangeIndex: 171214 entries, 0 to 171213\n",
      "Data columns (total 36 columns):\n",
      " #   Column                                            Non-Null Count   Dtype  \n",
      "---  ------                                            --------------   -----  \n",
      " 0   PUMA00                                            171214 non-null  int64  \n",
      " 1   Lot_Size                                          118165 non-null  float64\n",
      " 2   InflationAd_HousingCosts_2013USD                  171214 non-null  float64\n",
      " 3   InflationAd_ReportedIncome_2013USD                171214 non-null  float64\n",
      " 4   BATH                                              158863 non-null  float64\n",
      " 5   Number_Of_Bedrooms                                158863 non-null  float64\n",
      " 6   Structure_Units                                   158863 non-null  float64\n",
      " 7   Business_Medical_onProp                           118165 non-null  float64\n",
      " 8   Condo_Fee                                         158863 non-null  float64\n",
      " 9   Electricity_Monthly_Cost                          149248 non-null  float64\n",
      " 10  FamilyType_EmploymentStatus                       99406 non-null   float64\n",
      " 11  FamilyPresence_ChildrenAge                        99406 non-null   float64\n",
      " 12  SNAP_Program                                      161599 non-null  float64\n",
      " 13  Fuel_Cost                                         149248 non-null  float64\n",
      " 14  Gas                                               149248 non-null  float64\n",
      " 15  Heating_Fuel                                      149248 non-null  float64\n",
      " 16  Language                                          149248 non-null  float64\n",
      " 17  Household_Income                                  149248 non-null  float64\n",
      " 18  Limited_EnglishSpeaking                           149248 non-null  float64\n",
      " 19  First_Mortgage_Payment_Monthly                    71327 non-null   float64\n",
      " 20  MultiGen                                          149248 non-null  float64\n",
      " 21  Number_Of_Person                                  171214 non-null  int64  \n",
      " 22  PerCosts_HouseholdIncome                          109919 non-null  float64\n",
      " 23  Number_Of_Rooms                                   158863 non-null  float64\n",
      " 24  Monthly_Rent                                      38547 non-null   float64\n",
      " 25  Serial_No                                         171214 non-null  int64  \n",
      " 26  Total_Payment_Second_Junior_Mortgages_Home_Loans  16661 non-null   float64\n",
      " 27  Property_Taxes                                    110566 non-null  float64\n",
      " 28  Tenure                                            149248 non-null  float64\n",
      " 29  Type_Of_Unit                                      171214 non-null  int64  \n",
      " 30  Property_Value                                    112396 non-null  float64\n",
      " 31  Vehicles_Available                                149248 non-null  float64\n",
      " 32  Water                                             149248 non-null  float64\n",
      " 33  WorkersInFamily                                   99406 non-null   float64\n",
      " 34  Year_Built                                        158863 non-null  float64\n",
      " 35  ChicagoFlag                                       171214 non-null  int64  \n",
      "dtypes: float64(31), int64(5)\n",
      "memory usage: 47.0 MB\n"
     ]
    }
   ],
   "source": [
    "census.info(verbose = True)"
   ]
  },
  {
   "cell_type": "code",
   "execution_count": null,
   "metadata": {},
   "outputs": [],
   "source": [
    "# census['WKHP']"
   ]
  },
  {
   "cell_type": "code",
   "execution_count": 17,
   "metadata": {},
   "outputs": [
    {
     "data": {
      "text/plain": [
       "PUMA00                                                int64\n",
       "Lot_Size                                            float64\n",
       "InflationAd_HousingCosts_2013USD                    float64\n",
       "InflationAd_ReportedIncome_2013USD                  float64\n",
       "BATH                                                float64\n",
       "Number_Of_Bedrooms                                  float64\n",
       "Structure_Units                                     float64\n",
       "Business_Medical_onProp                             float64\n",
       "Condo_Fee                                           float64\n",
       "Electricity_Monthly_Cost                            float64\n",
       "FamilyType_EmploymentStatus                         float64\n",
       "FamilyPresence_ChildrenAge                          float64\n",
       "SNAP_Program                                        float64\n",
       "Fuel_Cost                                           float64\n",
       "Gas                                                 float64\n",
       "Heating_Fuel                                        float64\n",
       "Language                                            float64\n",
       "Household_Income                                    float64\n",
       "Limited_EnglishSpeaking                             float64\n",
       "First_Mortgage_Payment_Monthly                      float64\n",
       "MultiGen                                            float64\n",
       "Number_Of_Person                                      int64\n",
       "PerCosts_HouseholdIncome                            float64\n",
       "Number_Of_Rooms                                     float64\n",
       "Monthly_Rent                                        float64\n",
       "Serial_No                                             int64\n",
       "Total_Payment_Second_Junior_Mortgages_Home_Loans    float64\n",
       "Property_Taxes                                      float64\n",
       "Tenure                                              float64\n",
       "Type_Of_Unit                                          int64\n",
       "Property_Value                                      float64\n",
       "Vehicles_Available                                  float64\n",
       "Water                                               float64\n",
       "WorkersInFamily                                     float64\n",
       "Year_Built                                          float64\n",
       "ChicagoFlag                                           int64\n",
       "dtype: object"
      ]
     },
     "execution_count": 17,
     "metadata": {},
     "output_type": "execute_result"
    }
   ],
   "source": [
    "census.dtypes"
   ]
  },
  {
   "cell_type": "code",
   "execution_count": 18,
   "metadata": {},
   "outputs": [],
   "source": [
    "# # select only columns of interest\n",
    "# df = census[['BDSP','ELEP','FULP','GASP','MRGP','RMSP','RNTP','SMP','VALP','VEH','FINCP','HINCP','TAXP',\n",
    "#                   'ST']].copy()"
   ]
  },
  {
   "cell_type": "markdown",
   "metadata": {},
   "source": [
    "## Column Descriptions\n",
    "**BDSP**  = Number of bedrooms\n",
    "**ELEP**  = Electricity monthly cost\n",
    "**FULP**  = Fuel cost (yearly cost for fuels other than gas and electricity)\n",
    "**GASP**  = Gas (monthly fuel cost)\n",
    "**MRGP**  = First mortgage payment (monthly amount)\n",
    "**RMSP**  = Number of Rooms\n",
    "**RNTP**  = Monthly rent\n",
    "**SMP**   = Total payment on all second and junior mortgages and home equity loans (monthly amount)\n",
    "**VALP**  = Property value\n",
    "**VEH**   = Vehicles (1 ton or less) available\n",
    "**FINCP** = Family income (past 12 months)\n",
    "**HINCP** = Household income (past 12 months)\n",
    "**TAXP**  = Property taxes (yearly amount)\n",
    "**ST**    = State Code"
   ]
  },
  {
   "cell_type": "code",
   "execution_count": 19,
   "metadata": {},
   "outputs": [
    {
     "data": {
      "text/plain": [
       "21966"
      ]
     },
     "execution_count": 19,
     "metadata": {},
     "output_type": "execute_result"
    }
   ],
   "source": [
    "census.Electricity_Monthly_Cost.isna().sum()"
   ]
  },
  {
   "cell_type": "code",
   "execution_count": 21,
   "metadata": {},
   "outputs": [
    {
     "data": {
      "text/plain": [
       "3.0    0.398771\n",
       "2.0    0.279398\n",
       "4.0    0.165180\n",
       "1.0    0.097260\n",
       "5.0    0.033778\n",
       "0.0    0.016971\n",
       "9.0    0.005816\n",
       "8.0    0.002826\n",
       "Name: Number_Of_Bedrooms, dtype: float64"
      ]
     },
     "execution_count": 21,
     "metadata": {},
     "output_type": "execute_result"
    }
   ],
   "source": [
    "census.Number_Of_Bedrooms.value_counts(normalize = True)"
   ]
  },
  {
   "cell_type": "code",
   "execution_count": 20,
   "metadata": {},
   "outputs": [
    {
     "data": {
      "text/plain": [
       "108.60320    0.029099\n",
       "103.57250    0.028764\n",
       "106.83950    0.028731\n",
       "54.30160     0.026754\n",
       "86.88256     0.026325\n",
       "               ...   \n",
       "456.13344    0.000101\n",
       "438.04195    0.000094\n",
       "466.07625    0.000054\n",
       "445.27312    0.000047\n",
       "480.77775    0.000020\n",
       "Name: Electricity_Monthly_Cost, Length: 142, dtype: float64"
      ]
     },
     "execution_count": 20,
     "metadata": {},
     "output_type": "execute_result"
    }
   ],
   "source": [
    "census.Electricity_Monthly_Cost.value_counts(normalize = True)"
   ]
  },
  {
   "cell_type": "code",
   "execution_count": 22,
   "metadata": {},
   "outputs": [],
   "source": [
    "%matplotlib inline"
   ]
  },
  {
   "cell_type": "code",
   "execution_count": 30,
   "metadata": {},
   "outputs": [
    {
     "data": {
      "image/png": "[encoded data removed]",
      "text/plain": [
       "<Figure size 432x288 with 1 Axes>"
      ]
     },
     "metadata": {
      "needs_background": "light"
     },
     "output_type": "display_data"
    }
   ],
   "source": [
    "# plot:\n",
    "x = census.Monthly_Rent\n",
    "fig, ax = plt.subplots()\n",
    "\n",
    "ax.hist(x, bins=12, linewidth=0.5, edgecolor=\"white\")\n",
    "\n",
    "plt.show()"
   ]
  },
  {
   "cell_type": "markdown",
   "metadata": {},
   "source": [
    "matplotlib.pyplot.boxplot(x, notch=None, sym=None, vert=None, whis=None, positions=None, widths=None, patch_artist=None, bootstrap=None, usermedians=None, conf_intervals=None, meanline=None, showmeans=None, showcaps=None, showbox=None, showfliers=None, boxprops=None, labels=None, flierprops=None, medianprops=None, meanprops=None, capprops=None, whiskerprops=None, manage_ticks=True, autorange=False, zorder=None, *, data=None)"
   ]
  },
  {
   "cell_type": "code",
   "execution_count": 36,
   "metadata": {},
   "outputs": [
    {
     "data": {
      "image/png": "[encoded data removed]",
      "text/plain": [
       "<Figure size 432x288 with 1 Axes>"
      ]
     },
     "metadata": {
      "needs_background": "light"
     },
     "output_type": "display_data"
    }
   ],
   "source": [
    "x = census.Monthly_Rent\n",
    "fig, ax = plt.subplots()\n",
    "VP = ax.boxplot(x)\n",
    "plt.show()"
   ]
  },
  {
   "cell_type": "code",
   "execution_count": 37,
   "metadata": {},
   "outputs": [
    {
     "data": {
      "text/plain": [
       "count    38547.000000\n",
       "mean       749.185306\n",
       "std        466.120816\n",
       "min          4.000000\n",
       "25%        450.000000\n",
       "50%        670.000000\n",
       "75%        900.000000\n",
       "max       3200.000000\n",
       "Name: Monthly_Rent, dtype: float64"
      ]
     },
     "execution_count": 37,
     "metadata": {},
     "output_type": "execute_result"
    }
   ],
   "source": [
    "census.Monthly_Rent.describe()"
   ]
  },
  {
   "cell_type": "code",
   "execution_count": 39,
   "metadata": {},
   "outputs": [
    {
     "data": {
      "text/plain": [
       "{'whiskers': [<matplotlib.lines.Line2D at 0x7f7a96991c50>,\n",
       "  <matplotlib.lines.Line2D at 0x7f7a969860d0>],\n",
       " 'caps': [<matplotlib.lines.Line2D at 0x7f7a96986510>,\n",
       "  <matplotlib.lines.Line2D at 0x7f7a96986950>],\n",
       " 'boxes': [<matplotlib.lines.Line2D at 0x7f7a96991850>],\n",
       " 'medians': [<matplotlib.lines.Line2D at 0x7f7a96986dd0>],\n",
       " 'fliers': [<matplotlib.lines.Line2D at 0x7f7a969a3250>],\n",
       " 'means': []}"
      ]
     },
     "execution_count": 39,
     "metadata": {},
     "output_type": "execute_result"
    },
    {
     "data": {
      "image/png": "[encoded data removed]",
      "text/plain": [
       "<Figure size 432x288 with 1 Axes>"
      ]
     },
     "metadata": {
      "needs_background": "light"
     },
     "output_type": "display_data"
    }
   ],
   "source": [
    "fig, ax = plt.subplots()\n",
    "ax.boxplot(census.Monthly_Rent.value_counts())"
   ]
  },
  {
   "cell_type": "code",
   "execution_count": 51,
   "metadata": {},
   "outputs": [
    {
     "data": {
      "text/plain": [
       "{'whiskers': [<matplotlib.lines.Line2D at 0x7f7a99008350>,\n",
       "  <matplotlib.lines.Line2D at 0x7f7a99008790>],\n",
       " 'caps': [<matplotlib.lines.Line2D at 0x7f7a99008bd0>,\n",
       "  <matplotlib.lines.Line2D at 0x7f7a99011050>],\n",
       " 'boxes': [<matplotlib.lines.Line2D at 0x7f7a98f9cf50>],\n",
       " 'medians': [<matplotlib.lines.Line2D at 0x7f7a990114d0>],\n",
       " 'fliers': [<matplotlib.lines.Line2D at 0x7f7a99011910>],\n",
       " 'means': []}"
      ]
     },
     "execution_count": 51,
     "metadata": {},
     "output_type": "execute_result"
    },
    {
     "data": {
      "image/png": "[encoded data removed]",
      "text/plain": [
       "<Figure size 432x288 with 1 Axes>"
      ]
     },
     "metadata": {
      "needs_background": "light"
     },
     "output_type": "display_data"
    }
   ],
   "source": [
    "data = census.Monthly_Rent.dropna()\n",
    "red_square = dict(markerfacecolor='r', marker='s')\n",
    "fig5, ax5 = plt.subplots()\n",
    "ax5.set_title('Horizontal Boxes')\n",
    "ax5.boxplot(data, vert=False, flierprops=red_square)"
   ]
  },
  {
   "cell_type": "code",
   "execution_count": 46,
   "metadata": {},
   "outputs": [
    {
     "data": {
      "text/plain": [
       "0         550.0\n",
       "1           NaN\n",
       "2           NaN\n",
       "3           NaN\n",
       "4           NaN\n",
       "          ...  \n",
       "171209      NaN\n",
       "171210    700.0\n",
       "171211    850.0\n",
       "171212      NaN\n",
       "171213    350.0\n",
       "Name: Monthly_Rent, Length: 171214, dtype: float64"
      ]
     },
     "execution_count": 46,
     "metadata": {},
     "output_type": "execute_result"
    }
   ],
   "source": [
    "census.Monthly_Rent"
   ]
  },
  {
   "cell_type": "code",
   "execution_count": 49,
   "metadata": {},
   "outputs": [
    {
     "ename": "SyntaxError",
     "evalue": "invalid syntax (<ipython-input-49-2aee554f4809>, line 1)",
     "output_type": "error",
     "traceback": [
      "\u001b[0;36m  File \u001b[0;32m\"<ipython-input-49-2aee554f4809>\"\u001b[0;36m, line \u001b[0;32m1\u001b[0m\n\u001b[0;31m    isna()?\u001b[0m\n\u001b[0m          ^\u001b[0m\n\u001b[0;31mSyntaxError\u001b[0m\u001b[0;31m:\u001b[0m invalid syntax\n"
     ]
    }
   ],
   "source": []
  },
  {
   "cell_type": "code",
   "execution_count": null,
   "metadata": {},
   "outputs": [],
   "source": []
  }
 ],
 "metadata": {
  "kernelspec": {
   "display_name": "Python 3",
   "language": "python",
   "name": "python3"
  },
  "language_info": {
   "codemirror_mode": {
    "name": "ipython",
    "version": 3
   },
   "file_extension": ".py",
   "mimetype": "text/x-python",
   "name": "python",
   "nbconvert_exporter": "python",
   "pygments_lexer": "ipython3",
   "version": "3.7.4"
  }
 },
 "nbformat": 4,
 "nbformat_minor": 4
}
