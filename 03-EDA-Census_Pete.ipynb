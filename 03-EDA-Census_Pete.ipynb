{
 "cells": [
  {
   "cell_type": "markdown",
   "metadata": {},
   "source": [
    "# MSCA 32007 : Exploratory Data Analysis "
   ]
  },
  {
   "cell_type": "code",
   "execution_count": 1,
   "metadata": {},
   "outputs": [],
   "source": [
    "# import libraries\n",
    "import pandas as pd\n",
    "import numpy as np\n",
    "import seaborn as sns\n",
    "import matplotlib.pyplot as plt"
   ]
  },
  {
   "cell_type": "code",
   "execution_count": 2,
   "metadata": {},
   "outputs": [],
   "source": [
    "# !pip install sas7bdat"
   ]
  },
  {
   "cell_type": "code",
   "execution_count": 3,
   "metadata": {},
   "outputs": [],
   "source": [
    "# dataPath = '/Users/paryan414/UofC/MSCA 32007 Data Viz/Assignment_3/unix_hil/psam_h17.sas7bdat'"
   ]
  },
  {
   "cell_type": "code",
   "execution_count": 4,
   "metadata": {},
   "outputs": [],
   "source": [
    "# from sas7bdat import SAS7BDAT"
   ]
  },
  {
   "cell_type": "code",
   "execution_count": null,
   "metadata": {},
   "outputs": [],
   "source": [
    "# census_df = pd.read_sas(dataPath, format = 'sas7bdat')"
   ]
  },
  {
   "cell_type": "code",
   "execution_count": null,
   "metadata": {},
   "outputs": [],
   "source": [
    "# census_df.head()"
   ]
  },
  {
   "cell_type": "code",
   "execution_count": null,
   "metadata": {},
   "outputs": [],
   "source": [
    "# census_df.info(verbose = True)"
   ]
  },
  {
   "cell_type": "code",
   "execution_count": null,
   "metadata": {},
   "outputs": [],
   "source": [
    "# census_df.isna().sum()"
   ]
  },
  {
   "cell_type": "code",
   "execution_count": 5,
   "metadata": {},
   "outputs": [],
   "source": [
    "census = pd.read_csv('/Users/paryan414/UofC/MSCA 32007 Data Viz/Assignment_3/csv_hil/ss13hil.csv')"
   ]
  },
  {
   "cell_type": "code",
   "execution_count": 6,
   "metadata": {},
   "outputs": [
    {
     "data": {
      "text/html": [
       "<div>\n",
       "<style scoped>\n",
       "    .dataframe tbody tr th:only-of-type {\n",
       "        vertical-align: middle;\n",
       "    }\n",
       "\n",
       "    .dataframe tbody tr th {\n",
       "        vertical-align: top;\n",
       "    }\n",
       "\n",
       "    .dataframe thead th {\n",
       "        text-align: right;\n",
       "    }\n",
       "</style>\n",
       "<table border=\"1\" class=\"dataframe\">\n",
       "  <thead>\n",
       "    <tr style=\"text-align: right;\">\n",
       "      <th></th>\n",
       "      <th>insp</th>\n",
       "      <th>RT</th>\n",
       "      <th>SERIALNO</th>\n",
       "      <th>DIVISION</th>\n",
       "      <th>PUMA00</th>\n",
       "      <th>PUMA10</th>\n",
       "      <th>REGION</th>\n",
       "      <th>ST</th>\n",
       "      <th>ADJHSG</th>\n",
       "      <th>ADJINC</th>\n",
       "      <th>...</th>\n",
       "      <th>WGTP71</th>\n",
       "      <th>WGTP72</th>\n",
       "      <th>WGTP73</th>\n",
       "      <th>WGTP74</th>\n",
       "      <th>WGTP75</th>\n",
       "      <th>WGTP76</th>\n",
       "      <th>WGTP77</th>\n",
       "      <th>WGTP78</th>\n",
       "      <th>WGTP79</th>\n",
       "      <th>WGTP80</th>\n",
       "    </tr>\n",
       "  </thead>\n",
       "  <tbody>\n",
       "    <tr>\n",
       "      <th>0</th>\n",
       "      <td>NaN</td>\n",
       "      <td>H</td>\n",
       "      <td>2009000000061</td>\n",
       "      <td>3</td>\n",
       "      <td>3515</td>\n",
       "      <td>-9</td>\n",
       "      <td>2</td>\n",
       "      <td>17</td>\n",
       "      <td>1086032</td>\n",
       "      <td>1085467</td>\n",
       "      <td>...</td>\n",
       "      <td>10</td>\n",
       "      <td>10</td>\n",
       "      <td>11</td>\n",
       "      <td>60</td>\n",
       "      <td>33</td>\n",
       "      <td>37</td>\n",
       "      <td>11</td>\n",
       "      <td>63</td>\n",
       "      <td>36</td>\n",
       "      <td>11</td>\n",
       "    </tr>\n",
       "    <tr>\n",
       "      <th>1</th>\n",
       "      <td>400.0</td>\n",
       "      <td>H</td>\n",
       "      <td>2009000000075</td>\n",
       "      <td>3</td>\n",
       "      <td>1000</td>\n",
       "      <td>-9</td>\n",
       "      <td>2</td>\n",
       "      <td>17</td>\n",
       "      <td>1086032</td>\n",
       "      <td>1085467</td>\n",
       "      <td>...</td>\n",
       "      <td>2</td>\n",
       "      <td>8</td>\n",
       "      <td>13</td>\n",
       "      <td>11</td>\n",
       "      <td>6</td>\n",
       "      <td>9</td>\n",
       "      <td>5</td>\n",
       "      <td>7</td>\n",
       "      <td>9</td>\n",
       "      <td>14</td>\n",
       "    </tr>\n",
       "    <tr>\n",
       "      <th>2</th>\n",
       "      <td>NaN</td>\n",
       "      <td>H</td>\n",
       "      <td>2009000000108</td>\n",
       "      <td>3</td>\n",
       "      <td>3402</td>\n",
       "      <td>-9</td>\n",
       "      <td>2</td>\n",
       "      <td>17</td>\n",
       "      <td>1086032</td>\n",
       "      <td>1085467</td>\n",
       "      <td>...</td>\n",
       "      <td>14</td>\n",
       "      <td>17</td>\n",
       "      <td>4</td>\n",
       "      <td>4</td>\n",
       "      <td>27</td>\n",
       "      <td>30</td>\n",
       "      <td>5</td>\n",
       "      <td>16</td>\n",
       "      <td>23</td>\n",
       "      <td>19</td>\n",
       "    </tr>\n",
       "    <tr>\n",
       "      <th>3</th>\n",
       "      <td>NaN</td>\n",
       "      <td>H</td>\n",
       "      <td>2009000000132</td>\n",
       "      <td>3</td>\n",
       "      <td>3510</td>\n",
       "      <td>-9</td>\n",
       "      <td>2</td>\n",
       "      <td>17</td>\n",
       "      <td>1086032</td>\n",
       "      <td>1085467</td>\n",
       "      <td>...</td>\n",
       "      <td>56</td>\n",
       "      <td>104</td>\n",
       "      <td>62</td>\n",
       "      <td>18</td>\n",
       "      <td>60</td>\n",
       "      <td>19</td>\n",
       "      <td>91</td>\n",
       "      <td>61</td>\n",
       "      <td>15</td>\n",
       "      <td>20</td>\n",
       "    </tr>\n",
       "    <tr>\n",
       "      <th>4</th>\n",
       "      <td>NaN</td>\n",
       "      <td>H</td>\n",
       "      <td>2009000000150</td>\n",
       "      <td>3</td>\n",
       "      <td>3518</td>\n",
       "      <td>-9</td>\n",
       "      <td>2</td>\n",
       "      <td>17</td>\n",
       "      <td>1086032</td>\n",
       "      <td>1085467</td>\n",
       "      <td>...</td>\n",
       "      <td>60</td>\n",
       "      <td>39</td>\n",
       "      <td>61</td>\n",
       "      <td>70</td>\n",
       "      <td>36</td>\n",
       "      <td>64</td>\n",
       "      <td>11</td>\n",
       "      <td>35</td>\n",
       "      <td>42</td>\n",
       "      <td>37</td>\n",
       "    </tr>\n",
       "  </tbody>\n",
       "</table>\n",
       "<p>5 rows × 205 columns</p>\n",
       "</div>"
      ],
      "text/plain": [
       "    insp RT       SERIALNO  DIVISION  PUMA00  PUMA10  REGION  ST   ADJHSG  \\\n",
       "0    NaN  H  2009000000061         3    3515      -9       2  17  1086032   \n",
       "1  400.0  H  2009000000075         3    1000      -9       2  17  1086032   \n",
       "2    NaN  H  2009000000108         3    3402      -9       2  17  1086032   \n",
       "3    NaN  H  2009000000132         3    3510      -9       2  17  1086032   \n",
       "4    NaN  H  2009000000150         3    3518      -9       2  17  1086032   \n",
       "\n",
       "    ADJINC  ...  WGTP71  WGTP72  WGTP73  WGTP74  WGTP75  WGTP76  WGTP77  \\\n",
       "0  1085467  ...      10      10      11      60      33      37      11   \n",
       "1  1085467  ...       2       8      13      11       6       9       5   \n",
       "2  1085467  ...      14      17       4       4      27      30       5   \n",
       "3  1085467  ...      56     104      62      18      60      19      91   \n",
       "4  1085467  ...      60      39      61      70      36      64      11   \n",
       "\n",
       "   WGTP78  WGTP79  WGTP80  \n",
       "0      63      36      11  \n",
       "1       7       9      14  \n",
       "2      16      23      19  \n",
       "3      61      15      20  \n",
       "4      35      42      37  \n",
       "\n",
       "[5 rows x 205 columns]"
      ]
     },
     "execution_count": 6,
     "metadata": {},
     "output_type": "execute_result"
    }
   ],
   "source": [
    "census.head()"
   ]
  },
  {
   "cell_type": "code",
   "execution_count": 8,
   "metadata": {},
   "outputs": [
    {
     "data": {
      "text/plain": [
       "(287799, 205)"
      ]
     },
     "execution_count": 8,
     "metadata": {},
     "output_type": "execute_result"
    }
   ],
   "source": [
    "census.shape"
   ]
  },
  {
   "cell_type": "code",
   "execution_count": 9,
   "metadata": {},
   "outputs": [
    {
     "data": {
      "text/plain": [
       "0         2.0\n",
       "1         3.0\n",
       "2         3.0\n",
       "3         3.0\n",
       "4         3.0\n",
       "         ... \n",
       "287794    NaN\n",
       "287795    1.0\n",
       "287796    3.0\n",
       "287797    NaN\n",
       "287798    1.0\n",
       "Name: BDSP, Length: 287799, dtype: float64"
      ]
     },
     "execution_count": 9,
     "metadata": {},
     "output_type": "execute_result"
    }
   ],
   "source": [
    "census.BDSP"
   ]
  },
  {
   "cell_type": "code",
   "execution_count": null,
   "metadata": {},
   "outputs": [],
   "source": [
    "# census.describe()"
   ]
  },
  {
   "cell_type": "code",
   "execution_count": 10,
   "metadata": {},
   "outputs": [
    {
     "name": "stdout",
     "output_type": "stream",
     "text": [
      "<class 'pandas.core.frame.DataFrame'>\n",
      "RangeIndex: 287799 entries, 0 to 287798\n",
      "Data columns (total 205 columns):\n",
      " #    Column    Dtype  \n",
      "---   ------    -----  \n",
      " 0    insp      float64\n",
      " 1    RT        object \n",
      " 2    SERIALNO  int64  \n",
      " 3    DIVISION  int64  \n",
      " 4    PUMA00    int64  \n",
      " 5    PUMA10    int64  \n",
      " 6    REGION    int64  \n",
      " 7    ST        int64  \n",
      " 8    ADJHSG    int64  \n",
      " 9    ADJINC    int64  \n",
      " 10   WGTP      int64  \n",
      " 11   NP        int64  \n",
      " 12   TYPE      int64  \n",
      " 13   ACR       float64\n",
      " 14   AGS       float64\n",
      " 15   BATH      float64\n",
      " 16   BDSP      float64\n",
      " 17   BLD       float64\n",
      " 18   BUS       float64\n",
      " 19   CONP      float64\n",
      " 20   ELEP      float64\n",
      " 21   FS        float64\n",
      " 22   FULP      float64\n",
      " 23   GASP      float64\n",
      " 24   HFL       float64\n",
      " 25   MHP       float64\n",
      " 26   MRGI      float64\n",
      " 27   MRGP      float64\n",
      " 28   MRGT      float64\n",
      " 29   MRGX      float64\n",
      " 30   REFR      float64\n",
      " 31   RMSP      float64\n",
      " 32   RNTM      float64\n",
      " 33   RNTP      float64\n",
      " 34   RWAT      float64\n",
      " 35   RWATPR    float64\n",
      " 36   SINK      float64\n",
      " 37   SMP       float64\n",
      " 38   STOV      float64\n",
      " 39   TEL       float64\n",
      " 40   TEN       float64\n",
      " 41   TOIL      float64\n",
      " 42   VACS      float64\n",
      " 43   VALP      float64\n",
      " 44   VEH       float64\n",
      " 45   WATP      float64\n",
      " 46   YBL       float64\n",
      " 47   FES       float64\n",
      " 48   FINCP     float64\n",
      " 49   FPARC     float64\n",
      " 50   GRNTP     float64\n",
      " 51   GRPIP     float64\n",
      " 52   HHL       float64\n",
      " 53   HHT       float64\n",
      " 54   HINCP     float64\n",
      " 55   HUGCL     float64\n",
      " 56   HUPAC     float64\n",
      " 57   HUPAOC    float64\n",
      " 58   HUPARC    float64\n",
      " 59   KIT       float64\n",
      " 60   LNGI      float64\n",
      " 61   MULTG     float64\n",
      " 62   MV        float64\n",
      " 63   NOC       float64\n",
      " 64   NPF       float64\n",
      " 65   NPP       float64\n",
      " 66   NR        float64\n",
      " 67   NRC       float64\n",
      " 68   OCPIP     float64\n",
      " 69   PARTNER   float64\n",
      " 70   PLM       float64\n",
      " 71   PSF       float64\n",
      " 72   R18       float64\n",
      " 73   R60       float64\n",
      " 74   R65       float64\n",
      " 75   RESMODE   float64\n",
      " 76   SMOCP     float64\n",
      " 77   SMX       float64\n",
      " 78   SRNT      float64\n",
      " 79   SVAL      float64\n",
      " 80   TAXP      float64\n",
      " 81   WIF       float64\n",
      " 82   WKEXREL   float64\n",
      " 83   WORKSTAT  float64\n",
      " 84   FACRP     float64\n",
      " 85   FAGSP     float64\n",
      " 86   FBATHP    float64\n",
      " 87   FBDSP     float64\n",
      " 88   FBLDP     float64\n",
      " 89   FBUSP     float64\n",
      " 90   FCONP     float64\n",
      " 91   FELEP     float64\n",
      " 92   FFSP      int64  \n",
      " 93   FFULP     float64\n",
      " 94   FGASP     float64\n",
      " 95   FHFLP     float64\n",
      " 96   FINSP     float64\n",
      " 97   FKITP     float64\n",
      " 98   FMHP      float64\n",
      " 99   FMRGIP    float64\n",
      " 100  FMRGP     float64\n",
      " 101  FMRGTP    float64\n",
      " 102  FMRGXP    float64\n",
      " 103  FMVP      int64  \n",
      " 104  FPLMP     float64\n",
      " 105  FREFRP    float64\n",
      " 106  FRMSP     float64\n",
      " 107  FRNTMP    float64\n",
      " 108  FRNTP     float64\n",
      " 109  FRWATP    float64\n",
      " 110  FRWATPRP  float64\n",
      " 111  FSINKP    float64\n",
      " 112  FSMP      float64\n",
      " 113  FSMXHP    float64\n",
      " 114  FSMXSP    float64\n",
      " 115  FSTOVP    float64\n",
      " 116  FTAXP     float64\n",
      " 117  FTELP     float64\n",
      " 118  FTENP     float64\n",
      " 119  FTOILP    float64\n",
      " 120  FVACSP    float64\n",
      " 121  FVALP     float64\n",
      " 122  FVEHP     float64\n",
      " 123  FWATP     float64\n",
      " 124  FYBLP     float64\n",
      " 125  WGTP1     int64  \n",
      " 126  WGTP2     int64  \n",
      " 127  WGTP3     int64  \n",
      " 128  WGTP4     int64  \n",
      " 129  WGTP5     int64  \n",
      " 130  WGTP6     int64  \n",
      " 131  WGTP7     int64  \n",
      " 132  WGTP8     int64  \n",
      " 133  WGTP9     int64  \n",
      " 134  WGTP10    int64  \n",
      " 135  WGTP11    int64  \n",
      " 136  WGTP12    int64  \n",
      " 137  WGTP13    int64  \n",
      " 138  WGTP14    int64  \n",
      " 139  WGTP15    int64  \n",
      " 140  WGTP16    int64  \n",
      " 141  WGTP17    int64  \n",
      " 142  WGTP18    int64  \n",
      " 143  WGTP19    int64  \n",
      " 144  WGTP20    int64  \n",
      " 145  WGTP21    int64  \n",
      " 146  WGTP22    int64  \n",
      " 147  WGTP23    int64  \n",
      " 148  WGTP24    int64  \n",
      " 149  WGTP25    int64  \n",
      " 150  WGTP26    int64  \n",
      " 151  WGTP27    int64  \n",
      " 152  WGTP28    int64  \n",
      " 153  WGTP29    int64  \n",
      " 154  WGTP30    int64  \n",
      " 155  WGTP31    int64  \n",
      " 156  WGTP32    int64  \n",
      " 157  WGTP33    int64  \n",
      " 158  WGTP34    int64  \n",
      " 159  WGTP35    int64  \n",
      " 160  WGTP36    int64  \n",
      " 161  WGTP37    int64  \n",
      " 162  WGTP38    int64  \n",
      " 163  WGTP39    int64  \n",
      " 164  WGTP40    int64  \n",
      " 165  WGTP41    int64  \n",
      " 166  WGTP42    int64  \n",
      " 167  WGTP43    int64  \n",
      " 168  WGTP44    int64  \n",
      " 169  WGTP45    int64  \n",
      " 170  WGTP46    int64  \n",
      " 171  WGTP47    int64  \n",
      " 172  WGTP48    int64  \n",
      " 173  WGTP49    int64  \n",
      " 174  WGTP50    int64  \n",
      " 175  WGTP51    int64  \n",
      " 176  WGTP52    int64  \n",
      " 177  WGTP53    int64  \n",
      " 178  WGTP54    int64  \n",
      " 179  WGTP55    int64  \n",
      " 180  WGTP56    int64  \n",
      " 181  WGTP57    int64  \n",
      " 182  WGTP58    int64  \n",
      " 183  WGTP59    int64  \n",
      " 184  WGTP60    int64  \n",
      " 185  WGTP61    int64  \n",
      " 186  WGTP62    int64  \n",
      " 187  WGTP63    int64  \n",
      " 188  WGTP64    int64  \n",
      " 189  WGTP65    int64  \n",
      " 190  WGTP66    int64  \n",
      " 191  WGTP67    int64  \n",
      " 192  WGTP68    int64  \n",
      " 193  WGTP69    int64  \n",
      " 194  WGTP70    int64  \n",
      " 195  WGTP71    int64  \n",
      " 196  WGTP72    int64  \n",
      " 197  WGTP73    int64  \n",
      " 198  WGTP74    int64  \n",
      " 199  WGTP75    int64  \n",
      " 200  WGTP76    int64  \n",
      " 201  WGTP77    int64  \n",
      " 202  WGTP78    int64  \n",
      " 203  WGTP79    int64  \n",
      " 204  WGTP80    int64  \n",
      "dtypes: float64(111), int64(93), object(1)\n",
      "memory usage: 450.1+ MB\n"
     ]
    }
   ],
   "source": [
    "census.info(verbose = True)"
   ]
  },
  {
   "cell_type": "code",
   "execution_count": null,
   "metadata": {},
   "outputs": [],
   "source": [
    "# census['WKHP']"
   ]
  },
  {
   "cell_type": "code",
   "execution_count": 11,
   "metadata": {},
   "outputs": [
    {
     "data": {
      "text/plain": [
       "insp        float64\n",
       "RT           object\n",
       "SERIALNO      int64\n",
       "DIVISION      int64\n",
       "PUMA00        int64\n",
       "             ...   \n",
       "WGTP76        int64\n",
       "WGTP77        int64\n",
       "WGTP78        int64\n",
       "WGTP79        int64\n",
       "WGTP80        int64\n",
       "Length: 205, dtype: object"
      ]
     },
     "execution_count": 11,
     "metadata": {},
     "output_type": "execute_result"
    }
   ],
   "source": [
    "census.dtypes"
   ]
  },
  {
   "cell_type": "code",
   "execution_count": 12,
   "metadata": {},
   "outputs": [],
   "source": [
    "# select only columns of interest\n",
    "df = census[['BDSP','ELEP','FULP','GASP','MRGP','RMSP','RNTP','SMP','VALP','VEH','FINCP','HINCP','TAXP',\n",
    "                  'ST']].copy()"
   ]
  },
  {
   "cell_type": "markdown",
   "metadata": {},
   "source": [
    "## Column Descriptions\n",
    "**BDSP**  = Number of bedrooms\n",
    "**ELEP**  = Electricity monthly cost\n",
    "**FULP**  = Fuel cost (yearly cost for fuels other than gas and electricity)\n",
    "**GASP**  = Gas (monthly fuel cost)\n",
    "**MRGP**  = First mortgage payment (monthly amount)\n",
    "**RMSP**  = Number of Rooms\n",
    "**RNTP**  = Monthly rent\n",
    "**SMP**   = Total payment on all second and junior mortgages and home equity loans (monthly amount)\n",
    "**VALP**  = Property value\n",
    "**VEH**   = Vehicles (1 ton or less) available\n",
    "**FINCP** = Family income (past 12 months)\n",
    "**HINCP** = Household income (past 12 months)\n",
    "**TAXP**  = Property taxes (yearly amount)\n",
    "**ST**    = State Code"
   ]
  },
  {
   "cell_type": "code",
   "execution_count": 13,
   "metadata": {},
   "outputs": [
    {
     "data": {
      "text/html": [
       "<div>\n",
       "<style scoped>\n",
       "    .dataframe tbody tr th:only-of-type {\n",
       "        vertical-align: middle;\n",
       "    }\n",
       "\n",
       "    .dataframe tbody tr th {\n",
       "        vertical-align: top;\n",
       "    }\n",
       "\n",
       "    .dataframe thead th {\n",
       "        text-align: right;\n",
       "    }\n",
       "</style>\n",
       "<table border=\"1\" class=\"dataframe\">\n",
       "  <thead>\n",
       "    <tr style=\"text-align: right;\">\n",
       "      <th></th>\n",
       "      <th>BDSP</th>\n",
       "      <th>ELEP</th>\n",
       "      <th>FULP</th>\n",
       "      <th>GASP</th>\n",
       "      <th>MRGP</th>\n",
       "      <th>RMSP</th>\n",
       "      <th>RNTP</th>\n",
       "      <th>SMP</th>\n",
       "      <th>VALP</th>\n",
       "      <th>VEH</th>\n",
       "      <th>FINCP</th>\n",
       "      <th>HINCP</th>\n",
       "      <th>TAXP</th>\n",
       "      <th>ST</th>\n",
       "    </tr>\n",
       "  </thead>\n",
       "  <tbody>\n",
       "    <tr>\n",
       "      <th>0</th>\n",
       "      <td>2.0</td>\n",
       "      <td>NaN</td>\n",
       "      <td>NaN</td>\n",
       "      <td>NaN</td>\n",
       "      <td>NaN</td>\n",
       "      <td>5.0</td>\n",
       "      <td>NaN</td>\n",
       "      <td>NaN</td>\n",
       "      <td>NaN</td>\n",
       "      <td>NaN</td>\n",
       "      <td>NaN</td>\n",
       "      <td>NaN</td>\n",
       "      <td>NaN</td>\n",
       "      <td>17</td>\n",
       "    </tr>\n",
       "    <tr>\n",
       "      <th>1</th>\n",
       "      <td>3.0</td>\n",
       "      <td>200.0</td>\n",
       "      <td>2.0</td>\n",
       "      <td>3.0</td>\n",
       "      <td>300.0</td>\n",
       "      <td>5.0</td>\n",
       "      <td>NaN</td>\n",
       "      <td>NaN</td>\n",
       "      <td>65000.0</td>\n",
       "      <td>1.0</td>\n",
       "      <td>NaN</td>\n",
       "      <td>13000.0</td>\n",
       "      <td>11.0</td>\n",
       "      <td>17</td>\n",
       "    </tr>\n",
       "    <tr>\n",
       "      <th>2</th>\n",
       "      <td>3.0</td>\n",
       "      <td>80.0</td>\n",
       "      <td>2.0</td>\n",
       "      <td>120.0</td>\n",
       "      <td>NaN</td>\n",
       "      <td>6.0</td>\n",
       "      <td>1800.0</td>\n",
       "      <td>NaN</td>\n",
       "      <td>NaN</td>\n",
       "      <td>1.0</td>\n",
       "      <td>80000.0</td>\n",
       "      <td>80000.0</td>\n",
       "      <td>NaN</td>\n",
       "      <td>17</td>\n",
       "    </tr>\n",
       "    <tr>\n",
       "      <th>3</th>\n",
       "      <td>3.0</td>\n",
       "      <td>1.0</td>\n",
       "      <td>2.0</td>\n",
       "      <td>20.0</td>\n",
       "      <td>NaN</td>\n",
       "      <td>7.0</td>\n",
       "      <td>500.0</td>\n",
       "      <td>NaN</td>\n",
       "      <td>NaN</td>\n",
       "      <td>2.0</td>\n",
       "      <td>72700.0</td>\n",
       "      <td>72700.0</td>\n",
       "      <td>NaN</td>\n",
       "      <td>17</td>\n",
       "    </tr>\n",
       "    <tr>\n",
       "      <th>4</th>\n",
       "      <td>3.0</td>\n",
       "      <td>200.0</td>\n",
       "      <td>2.0</td>\n",
       "      <td>200.0</td>\n",
       "      <td>NaN</td>\n",
       "      <td>5.0</td>\n",
       "      <td>380.0</td>\n",
       "      <td>NaN</td>\n",
       "      <td>NaN</td>\n",
       "      <td>1.0</td>\n",
       "      <td>4400.0</td>\n",
       "      <td>4400.0</td>\n",
       "      <td>NaN</td>\n",
       "      <td>17</td>\n",
       "    </tr>\n",
       "  </tbody>\n",
       "</table>\n",
       "</div>"
      ],
      "text/plain": [
       "   BDSP   ELEP  FULP   GASP   MRGP  RMSP    RNTP  SMP     VALP  VEH    FINCP  \\\n",
       "0   2.0    NaN   NaN    NaN    NaN   5.0     NaN  NaN      NaN  NaN      NaN   \n",
       "1   3.0  200.0   2.0    3.0  300.0   5.0     NaN  NaN  65000.0  1.0      NaN   \n",
       "2   3.0   80.0   2.0  120.0    NaN   6.0  1800.0  NaN      NaN  1.0  80000.0   \n",
       "3   3.0    1.0   2.0   20.0    NaN   7.0   500.0  NaN      NaN  2.0  72700.0   \n",
       "4   3.0  200.0   2.0  200.0    NaN   5.0   380.0  NaN      NaN  1.0   4400.0   \n",
       "\n",
       "     HINCP  TAXP  ST  \n",
       "0      NaN   NaN  17  \n",
       "1  13000.0  11.0  17  \n",
       "2  80000.0   NaN  17  \n",
       "3  72700.0   NaN  17  \n",
       "4   4400.0   NaN  17  "
      ]
     },
     "execution_count": 13,
     "metadata": {},
     "output_type": "execute_result"
    }
   ],
   "source": [
    "df.head()"
   ]
  },
  {
   "cell_type": "code",
   "execution_count": 19,
   "metadata": {},
   "outputs": [
    {
     "data": {
      "text/plain": [
       "39184"
      ]
     },
     "execution_count": 19,
     "metadata": {},
     "output_type": "execute_result"
    }
   ],
   "source": [
    "df.ELEP.isna().sum()"
   ]
  },
  {
   "cell_type": "code",
   "execution_count": 20,
   "metadata": {},
   "outputs": [
    {
     "data": {
      "text/plain": [
       "17    287799\n",
       "Name: ST, dtype: int64"
      ]
     },
     "execution_count": 20,
     "metadata": {},
     "output_type": "execute_result"
    }
   ],
   "source": [
    "df.ST.value_counts() # all from Illinois"
   ]
  },
  {
   "cell_type": "code",
   "execution_count": 21,
   "metadata": {},
   "outputs": [
    {
     "name": "stdout",
     "output_type": "stream",
     "text": [
      "<class 'pandas.core.frame.DataFrame'>\n",
      "RangeIndex: 287799 entries, 0 to 287798\n",
      "Data columns (total 14 columns):\n",
      " #   Column  Non-Null Count   Dtype  \n",
      "---  ------  --------------   -----  \n",
      " 0   BDSP    264712 non-null  float64\n",
      " 1   ELEP    248615 non-null  float64\n",
      " 2   FULP    248615 non-null  float64\n",
      " 3   GASP    248615 non-null  float64\n",
      " 4   MRGP    116825 non-null  float64\n",
      " 5   RMSP    264712 non-null  float64\n",
      " 6   RNTP    65341 non-null   float64\n",
      " 7   SMP     25316 non-null   float64\n",
      " 8   VALP    185881 non-null  float64\n",
      " 9   VEH     248615 non-null  float64\n",
      " 10  FINCP   165452 non-null  float64\n",
      " 11  HINCP   248615 non-null  float64\n",
      " 12  TAXP    182920 non-null  float64\n",
      " 13  ST      287799 non-null  int64  \n",
      "dtypes: float64(13), int64(1)\n",
      "memory usage: 30.7 MB\n"
     ]
    }
   ],
   "source": [
    "df.info(verbose = True)"
   ]
  },
  {
   "cell_type": "code",
   "execution_count": 22,
   "metadata": {},
   "outputs": [
    {
     "data": {
      "text/plain": [
       "3.0    0.397983\n",
       "2.0    0.278586\n",
       "4.0    0.166052\n",
       "1.0    0.097223\n",
       "5.0    0.034543\n",
       "0.0    0.016867\n",
       "9.0    0.007049\n",
       "8.0    0.001696\n",
       "Name: BDSP, dtype: float64"
      ]
     },
     "execution_count": 22,
     "metadata": {},
     "output_type": "execute_result"
    }
   ],
   "source": [
    "df.BDSP.value_counts(normalize = True)"
   ]
  },
  {
   "cell_type": "code",
   "execution_count": 18,
   "metadata": {},
   "outputs": [
    {
     "data": {
      "text/plain": [
       "100.0    0.086781\n",
       "80.0     0.076858\n",
       "50.0     0.073680\n",
       "60.0     0.068910\n",
       "70.0     0.065213\n",
       "90.0     0.058572\n",
       "40.0     0.058319\n",
       "150.0    0.049748\n",
       "120.0    0.047716\n",
       "130.0    0.043368\n",
       "200.0    0.039241\n",
       "30.0     0.038956\n",
       "110.0    0.035911\n",
       "140.0    0.029926\n",
       "1.0      0.024174\n",
       "180.0    0.023703\n",
       "160.0    0.021559\n",
       "170.0    0.018458\n",
       "250.0    0.015643\n",
       "190.0    0.014054\n",
       "20.0     0.013571\n",
       "300.0    0.012714\n",
       "230.0    0.009102\n",
       "220.0    0.008966\n",
       "2.0      0.008161\n",
       "210.0    0.007638\n",
       "240.0    0.007164\n",
       "280.0    0.004770\n",
       "260.0    0.004517\n",
       "270.0    0.003906\n",
       "350.0    0.003709\n",
       "460.0    0.003343\n",
       "510.0    0.003113\n",
       "290.0    0.002944\n",
       "400.0    0.002643\n",
       "330.0    0.001967\n",
       "320.0    0.001770\n",
       "10.0     0.001766\n",
       "310.0    0.001436\n",
       "340.0    0.001142\n",
       "380.0    0.001094\n",
       "360.0    0.001022\n",
       "370.0    0.000768\n",
       "390.0    0.000583\n",
       "4.0      0.000479\n",
       "440.0    0.000265\n",
       "430.0    0.000265\n",
       "420.0    0.000193\n",
       "410.0    0.000153\n",
       "450.0    0.000044\n",
       "Name: ELEP, dtype: float64"
      ]
     },
     "execution_count": 18,
     "metadata": {},
     "output_type": "execute_result"
    }
   ],
   "source": [
    "df.ELEP.value_counts(normalize = True)"
   ]
  },
  {
   "cell_type": "code",
   "execution_count": null,
   "metadata": {},
   "outputs": [],
   "source": []
  },
  {
   "cell_type": "code",
   "execution_count": null,
   "metadata": {},
   "outputs": [],
   "source": []
  },
  {
   "cell_type": "code",
   "execution_count": null,
   "metadata": {},
   "outputs": [],
   "source": []
  },
  {
   "cell_type": "code",
   "execution_count": null,
   "metadata": {},
   "outputs": [],
   "source": []
  },
  {
   "cell_type": "code",
   "execution_count": null,
   "metadata": {},
   "outputs": [],
   "source": []
  },
  {
   "cell_type": "code",
   "execution_count": null,
   "metadata": {},
   "outputs": [],
   "source": []
  },
  {
   "cell_type": "code",
   "execution_count": null,
   "metadata": {},
   "outputs": [],
   "source": []
  },
  {
   "cell_type": "code",
   "execution_count": null,
   "metadata": {},
   "outputs": [],
   "source": []
  },
  {
   "cell_type": "code",
   "execution_count": null,
   "metadata": {},
   "outputs": [],
   "source": []
  }
 ],
 "metadata": {
  "kernelspec": {
   "display_name": "Python 3",
   "language": "python",
   "name": "python3"
  },
  "language_info": {
   "codemirror_mode": {
    "name": "ipython",
    "version": 3
   },
   "file_extension": ".py",
   "mimetype": "text/x-python",
   "name": "python",
   "nbconvert_exporter": "python",
   "pygments_lexer": "ipython3",
   "version": "3.7.4"
  }
 },
 "nbformat": 4,
 "nbformat_minor": 4
}
